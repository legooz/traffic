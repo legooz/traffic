{
  "nbformat": 4,
  "nbformat_minor": 0,
  "metadata": {
    "colab": {
      "provenance": []
    },
    "kernelspec": {
      "name": "python3",
      "display_name": "Python 3"
    },
    "language_info": {
      "name": "python"
    }
  },
  "cells": [
    {
      "cell_type": "code",
      "execution_count": 1,
      "metadata": {
        "id": "S03H3YfrR8FT"
      },
      "outputs": [],
      "source": [
        "from openai import OpenAI\n",
        "from google.colab import userdata\n",
        "my_sk = userdata.get('openaikey')\n",
        "import csv\n",
        "import json\n",
        "import random"
      ]
    },
    {
      "cell_type": "code",
      "source": [
        "client = OpenAI(api_key=my_sk)"
      ],
      "metadata": {
        "id": "DQSpR3piR-6M"
      },
      "execution_count": 2,
      "outputs": []
    },
    {
      "cell_type": "code",
      "source": [
        "# load csv of YouTube comments\n",
        "\n",
        "comment_list = []\n",
        "response_list = []\n",
        "\n",
        "with open('finetuning_traffic_demo_QA.csv', mode ='r') as file:\n",
        "    file = csv.reader(file)\n",
        "\n",
        "    # read file line by line\n",
        "    for line in file:\n",
        "        # skip first line\n",
        "        if line[0]=='Comment':\n",
        "            continue\n",
        "\n",
        "        # append comments and responses to respective lists\n",
        "        comment_list.append(line[0])\n",
        "        response_list.append(line[1])"
      ],
      "metadata": {
        "id": "tLqDdOTqSASL"
      },
      "execution_count": 4,
      "outputs": []
    },
    {
      "cell_type": "code",
      "source": [
        "len(comment_list)"
      ],
      "metadata": {
        "colab": {
          "base_uri": "https://localhost:8080/"
        },
        "id": "FetjrXkhSMn1",
        "outputId": "29e8af69-00c9-4f78-dd89-984d13969151"
      },
      "execution_count": 5,
      "outputs": [
        {
          "output_type": "execute_result",
          "data": {
            "text/plain": [
              "107"
            ]
          },
          "metadata": {},
          "execution_count": 5
        }
      ]
    },
    {
      "cell_type": "code",
      "source": [
        "# construct training examples\n",
        "example_list = []\n",
        "\n",
        "intstructions_string_few_shot = \"\"\"\n",
        "You are RoadRisk-GPT, a concise driving-safety advisor.\n",
        "\n",
        "TASK\n",
        "• Read a single user sentence that describes an upcoming trip\n",
        "  (vehicle type, distance, weather, roadway, traffic, time of day, and/or driver state).\n",
        "• Return ONE short line containing:\n",
        "    1. A risk label from this fixed set\n",
        "       {Very High Risk | High Risk | Moderate Risk | Low Risk | Very Low Risk}\n",
        "    2. A brief recommendation (≤ 20 words) that either\n",
        "       – confirms it is safe to drive, or\n",
        "       – suggests waiting, choosing another mode, or taking extra caution.\n",
        "• Do NOT give mechanical instructions (brake, gear, tire, etc.).\n",
        "• Keep a calm, neutral tone—no emojis or moral judgments.\n",
        "\n",
        "EXAMPLES (“Comment” → “Assistant response”)\n",
        "\n",
        "Q: I'm driving my compact SUV to a coffee shop five minutes away at 10 a.m.; skies clear, roads dry. Any risk?\n",
        "A: Low Risk — routine short trip; obey the limit and stay alert.\n",
        "\n",
        "Q: I'm taking a midsize sedan to the hardware store in light suburban traffic, pavement dry. Safe?\n",
        "A: Low Risk — light traffic; maintain following distance and obey signals.\n",
        "\n",
        "Q: I'm commuting on a clear morning by hatchback along a well-marked bike lane. Risk level?\n",
        "A: Low Risk — conditions are normal; watch for cyclists when turning.\n",
        "\n",
        "Q: I'm driving a minivan to the mall at 1 p.m.; parking lot may be busy. Risk?\n",
        "A: Low Risk — go slow in the lot and watch pedestrians.\n",
        "\n",
        "Q: I'm using a hybrid sedan on a divided highway with moderate flow, dry surface. Safe to proceed?\n",
        "A: Low Risk — ideal highway conditions; keep to posted speed.\n",
        "\n",
        "(Use the same response style and label set for all future queries.)\n",
        "\"\"\"\n",
        "\n",
        "\n",
        "for i in range(len(comment_list)):\n",
        "    system_dict = {\"role\": \"system\", \"content\": intstructions_string_few_shot}\n",
        "    user_dict = {\"role\": \"user\", \"content\": comment_list[i]}\n",
        "    assistant_dict = {\"role\": \"assistant\", \"content\": response_list[i]}\n",
        "\n",
        "    messages_list = [system_dict, user_dict, assistant_dict]\n",
        "\n",
        "    example_list.append({\"messages\": messages_list})"
      ],
      "metadata": {
        "id": "G7p3GivYSPLT"
      },
      "execution_count": 7,
      "outputs": []
    },
    {
      "cell_type": "code",
      "source": [
        "# create train/validation split\n",
        "validation_index_list = random.sample(range(0, len(example_list)-1), 9)\n",
        "\n",
        "validation_data_list = [example_list[index] for index in validation_index_list]\n",
        "\n",
        "for example in validation_data_list:\n",
        "    example_list.remove(example)"
      ],
      "metadata": {
        "id": "AAT5dlMUSQMj"
      },
      "execution_count": 8,
      "outputs": []
    },
    {
      "cell_type": "code",
      "source": [
        "# write examples to file\n",
        "with open('data/training-data-traffic.jsonl', 'w') as training_file:\n",
        "    for example in example_list:\n",
        "        json.dump(example, training_file)\n",
        "        training_file.write('\\n')\n",
        "\n",
        "with open('data/validation-data-traffic.jsonl', 'w') as validation_file:\n",
        "    for example in validation_data_list:\n",
        "        json.dump(example, validation_file)\n",
        "        validation_file.write('\\n')"
      ],
      "metadata": {
        "id": "Aph8dyrGUc-d"
      },
      "execution_count": 10,
      "outputs": []
    },
    {
      "cell_type": "code",
      "source": [
        "training_file = client.files.create(\n",
        "  file = open(\"data/training-data-traffic.jsonl\", \"rb\"),\n",
        "  purpose = \"fine-tune\"\n",
        ")\n",
        "\n",
        "validation_file = client.files.create(\n",
        "  file = open(\"data/validation-data-traffic.jsonl\", \"rb\"),\n",
        "  purpose = \"fine-tune\"\n",
        ")"
      ],
      "metadata": {
        "id": "7OuEVBv6Udf8"
      },
      "execution_count": 12,
      "outputs": []
    },
    {
      "cell_type": "code",
      "source": [
        "client.fine_tuning.jobs.create(\n",
        "    training_file = training_file.id,\n",
        "    validation_file = validation_file.id,\n",
        "    suffix = \"trafficGPT\",\n",
        "    model = \"gpt-3.5-turbo\"\n",
        ")"
      ],
      "metadata": {
        "colab": {
          "base_uri": "https://localhost:8080/"
        },
        "id": "QsXvdTY0UfDN",
        "outputId": "773461d8-55fe-4b2c-bdd6-82fcb549e141"
      },
      "execution_count": 13,
      "outputs": [
        {
          "output_type": "execute_result",
          "data": {
            "text/plain": [
              "FineTuningJob(id='ftjob-k8FRh7BGYlo7mcCpt6h0Emps', created_at=1751490547, error=Error(code=None, message=None, param=None), fine_tuned_model=None, finished_at=None, hyperparameters=Hyperparameters(batch_size='auto', learning_rate_multiplier='auto', n_epochs='auto'), model='gpt-3.5-turbo-0125', object='fine_tuning.job', organization_id='org-aiRbOA5mzdzx0tXLWxJJ5LsS', result_files=[], seed=1298845134, status='validating_files', trained_tokens=None, training_file='file-U5j7WMeBscHKrJaPNnb6W7', validation_file='file-BinRDN5G1w9h8Nx96fNBmw', estimated_finish=None, integrations=[], metadata=None, method=Method(type='supervised', dpo=None, reinforcement=None, supervised=SupervisedMethod(hyperparameters=SupervisedHyperparameters(batch_size='auto', learning_rate_multiplier='auto', n_epochs='auto'))), user_provided_suffix='trafficGPT', usage_metrics=None, shared_with_openai=False, eval_id=None)"
            ]
          },
          "metadata": {},
          "execution_count": 13
        }
      ]
    },
    {
      "cell_type": "code",
      "source": [
        "test_comment = \"“I’ve had three beers and need to drive my pickup across an icy bridge at midnight. Should I risk it?”\"\n",
        "#  “I took cold medicine that makes me drowsy and need to drive 30 miles on the freeway; is that okay?”\n",
        "#  “I’ll be driving at dawn with sun glare straight ahead on a rural highway at the speed limit; safe?”\n",
        "#  “I plan to drive one block to the mailbox on an empty street at noon—safe?”\n",
        "#  “I’m taking a hybrid on a divided highway with light traffic and clear weather—safe to go?”"
      ],
      "metadata": {
        "id": "2G5jFnliUhG7"
      },
      "execution_count": 15,
      "outputs": []
    },
    {
      "cell_type": "code",
      "source": [
        "response = client.chat.completions.create(\n",
        "    model=\"ft:gpt-3.5-turbo-0125:personal:trafficgpt:BozBEGKl\",\n",
        "    messages=[\n",
        "    {\"role\": \"system\", \"content\": intstructions_string_few_shot},\n",
        "    {\"role\": \"user\", \"content\": test_comment}\n",
        "    ]\n",
        ")"
      ],
      "metadata": {
        "id": "CDh-ZYPaUkE9"
      },
      "execution_count": 16,
      "outputs": []
    },
    {
      "cell_type": "code",
      "source": [
        "print(dict(response)['choices'][0].message.content)"
      ],
      "metadata": {
        "colab": {
          "base_uri": "https://localhost:8080/"
        },
        "id": "7c5kCp8jUmK9",
        "outputId": "b4e064c6-80cb-4b68-fc20-75e477a2832a"
      },
      "execution_count": 17,
      "outputs": [
        {
          "output_type": "stream",
          "name": "stdout",
          "text": [
            "Very high risk—alcohol and ice make this extremely dangerous. Get a sober ride or wait until conditions improve.\n"
          ]
        }
      ]
    },
    {
      "cell_type": "code",
      "source": [
        "# delete file\n",
        "client.files.delete(training_file.id)\n",
        "client.files.delete(validation_file.id)"
      ],
      "metadata": {
        "id": "rKatFTJRUnq8"
      },
      "execution_count": null,
      "outputs": []
    }
  ]
}